{
 "cells": [
  {
   "cell_type": "markdown",
   "metadata": {},
   "source": [
    "#  Jour-1 les bases de python\n"
   ]
  },
  {
   "cell_type": "markdown",
   "metadata": {},
   "source": [
    "### les variables"
   ]
  },
  {
   "cell_type": "code",
   "execution_count": 1,
   "metadata": {},
   "outputs": [],
   "source": [
    "a = \"Bonjour les ingenieurs \" # str\n",
    "b = 4 # int\n",
    "c = 1.2 # float\n",
    "d =True # boolean"
   ]
  },
  {
   "cell_type": "markdown",
   "metadata": {},
   "source": [
    "### Affichage console"
   ]
  },
  {
   "cell_type": "code",
   "execution_count": 2,
   "metadata": {},
   "outputs": [
    {
     "name": "stdout",
     "output_type": "stream",
     "text": [
      "ceci est un text \n",
      "Bonjour les ingenieurs \n"
     ]
    }
   ],
   "source": [
    "print(\"ceci est un text \")\n",
    "print(a) "
   ]
  },
  {
   "cell_type": "code",
   "execution_count": 3,
   "metadata": {},
   "outputs": [
    {
     "name": "stdout",
     "output_type": "stream",
     "text": [
      "ceci est un entier  4\n"
     ]
    }
   ],
   "source": [
    "print(\"ceci est un entier \",b)"
   ]
  },
  {
   "cell_type": "code",
   "execution_count": 4,
   "metadata": {},
   "outputs": [
    {
     "name": "stdout",
     "output_type": "stream",
     "text": [
      "ceci est est un float 1.2\n"
     ]
    }
   ],
   "source": [
    "print(\"ceci est est un float {}\".format(c))"
   ]
  },
  {
   "cell_type": "code",
   "execution_count": 5,
   "metadata": {},
   "outputs": [
    {
     "name": "stdout",
     "output_type": "stream",
     "text": [
      "ceci est un boolean True\n"
     ]
    }
   ],
   "source": [
    "print(f\"ceci est un boolean {d}\")"
   ]
  },
  {
   "cell_type": "markdown",
   "metadata": {},
   "source": [
    "### Typage et cast "
   ]
  },
  {
   "cell_type": "code",
   "execution_count": 6,
   "metadata": {},
   "outputs": [
    {
     "name": "stdout",
     "output_type": "stream",
     "text": [
      "Bonjour les ingenieurs  <class 'str'>\n"
     ]
    }
   ],
   "source": [
    "print(a,type(a))"
   ]
  },
  {
   "cell_type": "code",
   "execution_count": 8,
   "metadata": {},
   "outputs": [
    {
     "name": "stdout",
     "output_type": "stream",
     "text": [
      "4 <class 'int'>\n",
      "4.0 <class 'float'>\n"
     ]
    }
   ],
   "source": [
    "print(b,type(b))\n",
    "b= float(b)\n",
    "print(b,type(b))\n"
   ]
  },
  {
   "cell_type": "code",
   "execution_count": 9,
   "metadata": {},
   "outputs": [
    {
     "name": "stdout",
     "output_type": "stream",
     "text": [
      "1.2 <class 'float'>\n",
      "1.2 <class 'str'>\n",
      "1.2 <class 'float'>\n"
     ]
    }
   ],
   "source": [
    "print(c,type(c))\n",
    "c =str(c)\n",
    "print(c,type(c))\n",
    "c =float(c)\n",
    "print(c,type(c))\n"
   ]
  },
  {
   "cell_type": "markdown",
   "metadata": {},
   "source": [
    "### Operation et operateur"
   ]
  },
  {
   "cell_type": "raw",
   "metadata": {},
   "source": [
    "c = a + b addition\n",
    "c = a - b soustraction\n",
    "c = a / b dividion\n",
    "c == a  egal\n",
    "c != a  different\n",
    "and et\n",
    "or ou\n",
    "*"
   ]
  },
  {
   "cell_type": "markdown",
   "metadata": {},
   "source": [
    "### Condition "
   ]
  },
  {
   "cell_type": "code",
   "execution_count": null,
   "metadata": {},
   "outputs": [],
   "source": [
    "if a == b :\n",
    "    print(\"a == b\")\n",
    "elif a == c :\n",
    "    print(\"a == c\")\n",
    "else :\n",
    "    print(\"a != b and a != c\")"
   ]
  },
  {
   "cell_type": "markdown",
   "metadata": {},
   "source": [
    "### Boucle "
   ]
  },
  {
   "cell_type": "code",
   "execution_count": 10,
   "metadata": {},
   "outputs": [
    {
     "name": "stdout",
     "output_type": "stream",
     "text": [
      "0\n",
      "1\n",
      "2\n",
      "3\n",
      "4\n"
     ]
    }
   ],
   "source": [
    "for i in range(0,5):\n",
    "    print(i)"
   ]
  },
  {
   "cell_type": "code",
   "execution_count": 11,
   "metadata": {},
   "outputs": [
    {
     "name": "stdout",
     "output_type": "stream",
     "text": [
      "5\n",
      "4\n",
      "3\n",
      "2\n",
      "1\n"
     ]
    }
   ],
   "source": [
    "i= 5\n",
    "while i >0 :\n",
    "    print(i)\n",
    "    i -= 1"
   ]
  },
  {
   "cell_type": "markdown",
   "metadata": {},
   "source": [
    "### liste"
   ]
  },
  {
   "cell_type": "code",
   "execution_count": 12,
   "metadata": {},
   "outputs": [
    {
     "name": "stdout",
     "output_type": "stream",
     "text": [
      "[] <class 'list'>\n",
      "[1, 'kany', 1.2, True]\n"
     ]
    }
   ],
   "source": [
    "maListe1 = [] # ou list() \n",
    "maListe2 = [1,\"kany\",1.2,True]\n",
    "print(maListe1,type(maListe1))\n",
    "print(maListe2)"
   ]
  },
  {
   "cell_type": "code",
   "execution_count": 13,
   "metadata": {},
   "outputs": [
    {
     "name": "stdout",
     "output_type": "stream",
     "text": [
      "1.2\n"
     ]
    }
   ],
   "source": [
    "print(maListe2[2])"
   ]
  },
  {
   "cell_type": "code",
   "execution_count": 14,
   "metadata": {},
   "outputs": [
    {
     "name": "stdout",
     "output_type": "stream",
     "text": [
      "[1, 'kany', 1.2, True, 5]\n",
      "[1, 'kany', 1.2, True]\n"
     ]
    }
   ],
   "source": [
    "maListe2.append(5)\n",
    "print(maListe2)\n",
    "maListe2.remove(5)\n",
    "print(maListe2)"
   ]
  },
  {
   "cell_type": "code",
   "execution_count": 15,
   "metadata": {},
   "outputs": [
    {
     "name": "stdout",
     "output_type": "stream",
     "text": [
      "1\n",
      "kany\n",
      "1.2\n",
      "True\n"
     ]
    }
   ],
   "source": [
    "for i in maListe2 :\n",
    "    print(i)"
   ]
  },
  {
   "cell_type": "code",
   "execution_count": 16,
   "metadata": {},
   "outputs": [
    {
     "name": "stdout",
     "output_type": "stream",
     "text": [
      "1\n",
      "kany\n",
      "1.2\n",
      "True\n"
     ]
    }
   ],
   "source": [
    "nbr = len(maListe2)\n",
    "for i in range(0,nbr):\n",
    "    print(maListe2[i])"
   ]
  },
  {
   "cell_type": "markdown",
   "metadata": {},
   "source": [
    "### Dictionnaire"
   ]
  },
  {
   "cell_type": "code",
   "execution_count": 17,
   "metadata": {},
   "outputs": [
    {
     "name": "stdout",
     "output_type": "stream",
     "text": [
      "{'nom': 'ndiaye', 'age': 25, 'isBG': False}\n"
     ]
    }
   ],
   "source": [
    "monDict1 = {} # ou dict()\n",
    "monDict2 = {\"nom\":\"ndiaye\",\"age\":25,\"isBG\":False}\n",
    "print(monDict2)"
   ]
  },
  {
   "cell_type": "code",
   "execution_count": 18,
   "metadata": {},
   "outputs": [
    {
     "name": "stdout",
     "output_type": "stream",
     "text": [
      "{'nom': 'ndiaye', 'age': 25, 'isBG': False, 'prenom': 'magaye'}\n"
     ]
    }
   ],
   "source": [
    "monDict2[\"prenom\"] = \"magaye\"\n",
    "print(monDict2)"
   ]
  },
  {
   "cell_type": "code",
   "execution_count": 19,
   "metadata": {},
   "outputs": [
    {
     "name": "stdout",
     "output_type": "stream",
     "text": [
      "{'nom': 'ndiaye', 'age': 25, 'isBG': True, 'prenom': 'magaye'}\n",
      "{'nom': 'ndiaye', 'age': 25, 'prenom': 'magaye'}\n"
     ]
    }
   ],
   "source": [
    "monDict2[\"isBG\"] = True\n",
    "print(monDict2)\n",
    "del monDict2[\"isBG\"]\n",
    "print(monDict2)"
   ]
  },
  {
   "cell_type": "code",
   "execution_count": 20,
   "metadata": {},
   "outputs": [
    {
     "name": "stdout",
     "output_type": "stream",
     "text": [
      "nom  :  ndiaye\n",
      "age  :  25\n",
      "prenom  :  magaye\n"
     ]
    }
   ],
   "source": [
    "for key in monDict2 :\n",
    "    print(key,\" : \",monDict2[key])"
   ]
  },
  {
   "cell_type": "markdown",
   "metadata": {},
   "source": [
    "### Fonction"
   ]
  },
  {
   "cell_type": "code",
   "execution_count": 21,
   "metadata": {},
   "outputs": [
    {
     "name": "stdout",
     "output_type": "stream",
     "text": [
      "5 2\n",
      "5 1\n"
     ]
    }
   ],
   "source": [
    "def fonction1():\n",
    "    pass\n",
    "fonction1()\n",
    "def fonction2(a,b=1):\n",
    "    print(a,b)\n",
    "fonction2(5,2)\n",
    "fonction2(5)"
   ]
  },
  {
   "cell_type": "code",
   "execution_count": 22,
   "metadata": {},
   "outputs": [
    {
     "name": "stdout",
     "output_type": "stream",
     "text": [
      "12\n"
     ]
    }
   ],
   "source": [
    "def fonction3(a):\n",
    "    b = a +10\n",
    "    return b\n",
    "g=fonction3(2)\n",
    "print(g)"
   ]
  },
  {
   "cell_type": "markdown",
   "metadata": {},
   "source": [
    "### Class"
   ]
  },
  {
   "cell_type": "code",
   "execution_count": null,
   "metadata": {},
   "outputs": [],
   "source": [
    "class Personne():\n",
    "\n",
    "    def __init__(self, n):\n",
    "        self.nom = n\n",
    "        \n",
    "    def direBonjour(self):\n",
    "        print(f\"Bonjour je suis {self.nom}\")\n",
    "        "
   ]
  },
  {
   "cell_type": "code",
   "execution_count": null,
   "metadata": {},
   "outputs": [],
   "source": [
    "toure = Personne(\"Toure\")\n",
    "toure.direBonjour()"
   ]
  },
  {
   "cell_type": "code",
   "execution_count": null,
   "metadata": {},
   "outputs": [],
   "source": []
  }
 ],
 "metadata": {
  "kernelspec": {
   "display_name": "Python 3",
   "language": "python",
   "name": "python3"
  },
  "language_info": {
   "codemirror_mode": {
    "name": "ipython",
    "version": 3
   },
   "file_extension": ".py",
   "mimetype": "text/x-python",
   "name": "python",
   "nbconvert_exporter": "python",
   "pygments_lexer": "ipython3",
   "version": "3.8.5"
  }
 },
 "nbformat": 4,
 "nbformat_minor": 4
}
